{
 "cells": [
  {
   "cell_type": "markdown",
   "id": "900bc62a",
   "metadata": {},
   "source": [
    "# Data Science Tools and Ecosystem"
   ]
  },
  {
   "cell_type": "markdown",
   "id": "58ce61c1",
   "metadata": {},
   "source": [
    "In this notebook, Data Science Tools and Ecosystem are summarized."
   ]
  },
  {
   "cell_type": "markdown",
   "id": "3d7df081",
   "metadata": {},
   "source": [
    "Some of the popular language that Data Scientists use are :\n",
    "1. Python\n",
    "2. R\n",
    "3. SQL\n",
    "4. Java\n",
    "5. MATLAB\n",
    "6. JavaScript"
   ]
  },
  {
   "cell_type": "markdown",
   "id": "80d7254e",
   "metadata": {},
   "source": [
    "Some of the commonly used libraries used by Data Scientist include:\n",
    "1. Pandas\n",
    "2. Numpy\n",
    "3. Seaborn\n",
    "4. Keras\n",
    "5. Tensorflow\n",
    "6. Scikit-learn\n",
    "7. GGplot2"
   ]
  },
  {
   "cell_type": "markdown",
   "id": "c4e9c3dd",
   "metadata": {},
   "source": [
    "# |Data Science Tools:|RStudio|Jupyter Notebook|Visual Studio Code|\n"
   ]
  },
  {
   "cell_type": "markdown",
   "id": "fe3b28ea",
   "metadata": {},
   "source": [
    "### Below are a few examples of evaluating arimetic expressions in Python"
   ]
  },
  {
   "cell_type": "code",
   "execution_count": 3,
   "id": "cdb7d972",
   "metadata": {},
   "outputs": [
    {
     "data": {
      "text/plain": [
       "17"
      ]
     },
     "execution_count": 3,
     "metadata": {},
     "output_type": "execute_result"
    }
   ],
   "source": [
    "# This is a simple arithmetic expression to multiply then add integers\n",
    "(3*4)+5"
   ]
  },
  {
   "cell_type": "code",
   "execution_count": 5,
   "id": "5a88d2a0",
   "metadata": {},
   "outputs": [
    {
     "name": "stdout",
     "output_type": "stream",
     "text": [
      "it is 3 hours and 20 minutes\n"
     ]
    }
   ],
   "source": [
    "# this will convert 200 minutes to hours\n",
    "hours=200//60\n",
    "minutes=200%60\n",
    "print(f'it is {hours} hours and {minutes} minutes')"
   ]
  },
  {
   "cell_type": "markdown",
   "id": "016fbbe3",
   "metadata": {},
   "source": [
    "### Objectives:\n",
    "    * Popular languages used in data science\n",
    "    * Libraries used in data science\n",
    "    * Tools used in data science\n",
    "    * basic arithmetic in jupyter notebook"
   ]
  },
  {
   "cell_type": "markdown",
   "id": "6eb5efb4",
   "metadata": {},
   "source": [
    "## Author\n",
    "    ONWURAH IFEANYI"
   ]
  },
  {
   "cell_type": "code",
   "execution_count": null,
   "id": "5c20b900",
   "metadata": {},
   "outputs": [],
   "source": []
  }
 ],
 "metadata": {
  "kernelspec": {
   "display_name": "Python 3 (ipykernel)",
   "language": "python",
   "name": "python3"
  },
  "language_info": {
   "codemirror_mode": {
    "name": "ipython",
    "version": 3
   },
   "file_extension": ".py",
   "mimetype": "text/x-python",
   "name": "python",
   "nbconvert_exporter": "python",
   "pygments_lexer": "ipython3",
   "version": "3.9.7"
  }
 },
 "nbformat": 4,
 "nbformat_minor": 5
}
